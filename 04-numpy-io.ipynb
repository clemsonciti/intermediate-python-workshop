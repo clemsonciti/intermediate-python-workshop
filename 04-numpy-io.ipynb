{
 "cells": [
  {
   "cell_type": "markdown",
   "metadata": {},
   "source": [
    "# Basic I/O with NumPy"
   ]
  },
  {
   "cell_type": "markdown",
   "metadata": {},
   "source": [
    "## savetxt and loadtxt\n",
    "\n",
    "Text-based file formats are preferable, because they can easily be read by humans. When these text files also have \"nice\" structure, they can also be easily read by computers."
   ]
  },
  {
   "cell_type": "code",
   "execution_count": 31,
   "metadata": {
    "collapsed": false
   },
   "outputs": [],
   "source": [
    "import numpy as np\n",
    "a = np.array([[1991, 1992, 1993, 1994], [1.1, 1.4, 1.02, 3.9]])"
   ]
  },
  {
   "cell_type": "code",
   "execution_count": 32,
   "metadata": {
    "collapsed": false
   },
   "outputs": [
    {
     "name": "stdout",
     "output_type": "stream",
     "text": [
      "[[  1.99100000e+03   1.10000000e+00]\n",
      " [  1.99200000e+03   1.40000000e+00]\n",
      " [  1.99300000e+03   1.02000000e+00]\n",
      " [  1.99400000e+03   3.90000000e+00]]\n"
     ]
    }
   ],
   "source": [
    "a = a.T\n",
    "print(a)"
   ]
  },
  {
   "cell_type": "code",
   "execution_count": 33,
   "metadata": {
    "collapsed": true
   },
   "outputs": [],
   "source": [
    "np.savetxt('GPA.txt', a)"
   ]
  },
  {
   "cell_type": "code",
   "execution_count": 34,
   "metadata": {
    "collapsed": false
   },
   "outputs": [
    {
     "name": "stdout",
     "output_type": "stream",
     "text": [
      "00-python-intro.ipynb\t  03-numpy-indexing.ipynb  GPA.txt    slides.ipynb\r\n",
      "01-intro-numpy.ipynb\t  04-numpy-io.ipynb\t   img\r\n",
      "02-numpy-operating.ipynb  data\t\t\t   README.md\r\n"
     ]
    }
   ],
   "source": [
    "!ls"
   ]
  },
  {
   "cell_type": "code",
   "execution_count": 35,
   "metadata": {
    "collapsed": false
   },
   "outputs": [
    {
     "name": "stdout",
     "output_type": "stream",
     "text": [
      "1.991000000000000000e+03 1.100000000000000089e+00\r\n",
      "1.992000000000000000e+03 1.399999999999999911e+00\r\n",
      "1.993000000000000000e+03 1.020000000000000018e+00\r\n",
      "1.994000000000000000e+03 3.899999999999999911e+00\r\n"
     ]
    }
   ],
   "source": [
    "!head GPA.txt"
   ]
  },
  {
   "cell_type": "code",
   "execution_count": 36,
   "metadata": {
    "collapsed": false
   },
   "outputs": [
    {
     "name": "stdout",
     "output_type": "stream",
     "text": [
      "[[  1.99100000e+03   1.10000000e+00]\n",
      " [  1.99200000e+03   1.40000000e+00]\n",
      " [  1.99300000e+03   1.02000000e+00]\n",
      " [  1.99400000e+03   3.90000000e+00]]\n"
     ]
    }
   ],
   "source": [
    "scores = np.loadtxt('GPA.txt')\n",
    "print(scores)"
   ]
  },
  {
   "cell_type": "markdown",
   "metadata": {},
   "source": [
    "## savez and load"
   ]
  },
  {
   "cell_type": "markdown",
   "metadata": {},
   "source": [
    "The `savez` and `load` functions help storing and loading several numpy arrays in a special format, `npz`."
   ]
  },
  {
   "cell_type": "code",
   "execution_count": 38,
   "metadata": {
    "collapsed": true
   },
   "outputs": [],
   "source": [
    "locations = np.array([12, 15, 11, 9, 4])\n",
    "temperatures = np.array([22.1, 21.6, 23.9, 31.3, 33.0])\n",
    "np.savez('readings.npz', locations=locations, temperatures=temperatures)"
   ]
  },
  {
   "cell_type": "code",
   "execution_count": 39,
   "metadata": {
    "collapsed": false
   },
   "outputs": [
    {
     "name": "stdout",
     "output_type": "stream",
     "text": [
      "PK\u0003\u0004\u0014\u0000\u0000\u0000\u0000\u0000�^jI!Z\u0002]x\u0000\u0000\u0000x\u0000\u0000\u0000\u0010\u0000\u0000\u0000temperatures.npy�NUMPY\u0001\u0000F\u0000{'descr': '<f8', 'fortran_order': False, 'shape': (5,), }            \r\n",
      "�����\u00196@������5@fffff�7@�����L?@\u0000\u0000\u0000\u0000\u0000�@@PK\u0003\u0004\u0014\u0000\u0000\u0000\u0000\u0000�^jIF���x\u0000\u0000\u0000x\u0000\u0000\u0000\r",
      "\u0000\u0000\u0000locations.npy�NUMPY\u0001\u0000F\u0000{'descr': '<i8', 'fortran_order': False, 'shape': (5,), }            \r\n",
      "\f",
      "\u0000\u0000\u0000\u0000\u0000\u0000\u0000\u000f\u0000\u0000\u0000\u0000\u0000\u0000\u0000\u000b",
      "\u0000\u0000\u0000\u0000\u0000\u0000\u0000\t\u0000\u0000\u0000\u0000\u0000\u0000\u0000\u0004\u0000\u0000\u0000\u0000\u0000\u0000\u0000PK\u0001\u0002\u0014\u0003\u0014\u0000\u0000\u0000\u0000\u0000�^jI!Z\u0002]x\u0000\u0000\u0000x\u0000\u0000\u0000\u0010\u0000\u0000\u0000\u0000\u0000\u0000\u0000\u0000\u0000\u0000\u0000��\u0000\u0000\u0000\u0000temperatures.npyPK\u0001\u0002\u0014\u0003\u0014\u0000\u0000\u0000\u0000\u0000�^jIF���x\u0000\u0000\u0000x\u0000\u0000\u0000\r",
      "\u0000\u0000\u0000\u0000\u0000\u0000\u0000\u0000\u0000\u0000\u0000���\u0000\u0000\u0000locations.npyPK\u0005\u0006\u0000\u0000\u0000\u0000\u0002\u0000\u0002\u0000y\u0000\u0000\u0000I\u0001\u0000\u0000\u0000\u0000"
     ]
    }
   ],
   "source": [
    "!head readings.npz"
   ]
  },
  {
   "cell_type": "code",
   "execution_count": 42,
   "metadata": {
    "collapsed": false
   },
   "outputs": [
    {
     "name": "stdout",
     "output_type": "stream",
     "text": [
      "<class 'numpy.lib.npyio.NpzFile'>\n",
      "[ 22.1  21.6  23.9  31.3  33. ]\n",
      "[12 15 11  9  4]\n"
     ]
    }
   ],
   "source": [
    "exp_data = np.load('readings.npz')\n",
    "print(type(exp_data))\n",
    "print(exp_data['temperatures'])\n",
    "print(exp_data['locations'])"
   ]
  },
  {
   "cell_type": "markdown",
   "metadata": {},
   "source": [
    "## Other popular data formats"
   ]
  },
  {
   "cell_type": "markdown",
   "metadata": {},
   "source": [
    "* **CSV**\n",
    "  * [built in](https://docs.python.org/3/library/csv.html)\n",
    "* **HDF5**\n",
    "  * http://www.pytables.org/\n",
    "  * http://www.h5py.org/\n",
    "* **NetCDF**\n",
    "  * http://unidata.github.io/netcdf4-python/\n",
    "* **JSON**\n",
    "  * [built in](https://docs.python.org/3/library/json.html)\n",
    "* **XML**\n",
    "  * http://lxml.de/\n",
    "* **GIS** (e.g. GeoJSON)\n",
    "  * http://toblerity.org/fiona/"
   ]
  }
 ],
 "metadata": {
  "kernelspec": {
   "display_name": "Python 3 (Anaconda)",
   "language": "python",
   "name": "anaconda_py3"
  },
  "language_info": {
   "codemirror_mode": {
    "name": "ipython",
    "version": 3
   },
   "file_extension": ".py",
   "mimetype": "text/x-python",
   "name": "python",
   "nbconvert_exporter": "python",
   "pygments_lexer": "ipython3",
   "version": "3.5.2"
  }
 },
 "nbformat": 4,
 "nbformat_minor": 1
}
