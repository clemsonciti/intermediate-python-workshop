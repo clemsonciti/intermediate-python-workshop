{
 "cells": [
  {
   "cell_type": "code",
   "execution_count": 1,
   "metadata": {
    "collapsed": true
   },
   "outputs": [],
   "source": [
    "%matplotlib inline"
   ]
  },
  {
   "cell_type": "code",
   "execution_count": 39,
   "metadata": {
    "collapsed": false
   },
   "outputs": [],
   "source": [
    "import numpy as np\n",
    "from scipy import ndimage\n",
    "import matplotlib.pyplot as plt\n",
    "from PIL import Image\n",
    "\n",
    "def gen_slide():\n",
    "    n = 8\n",
    "    l = 256\n",
    "    im = np.zeros((l, l))\n",
    "    points = l*np.random.random((2, n**2))\n",
    "    im[(points[0]).astype(np.int), (points[1]).astype(np.int)] = 1\n",
    "    im = ndimage.gaussian_filter(im, sigma=l/(4.*n))\n",
    "    mask = (im > im.mean()).astype(np.float)\n",
    "    mask += 0.1 * im\n",
    "    img = mask + 0.2*np.random.randn(*mask.shape)\n",
    "    \n",
    "    I8 = (((img - img.min()) / (img.max() - img.min())) * 255.9).astype(np.uint8)\n",
    "    print(I8)\n",
    "    return Image.fromarray(I8)"
   ]
  },
  {
   "cell_type": "code",
   "execution_count": 40,
   "metadata": {
    "collapsed": false
   },
   "outputs": [
    {
     "name": "stdout",
     "output_type": "stream",
     "text": [
      "[[ 96 116  77 ..., 151 204 176]\n",
      " [ 63  75  68 ..., 149 188 188]\n",
      " [ 55  84  48 ..., 216 175 195]\n",
      " ..., \n",
      " [ 89  52  77 ..., 186 204 177]\n",
      " [ 73 102  93 ..., 194 220 190]\n",
      " [ 91 117  69 ..., 195 154 180]]\n",
      "---\n",
      "[[ 68  90  62 ..., 157 176 176]\n",
      " [ 96 100  62 ..., 185 195 150]\n",
      " [ 92  66  64 ..., 163 176 204]\n",
      " ..., \n",
      " [ 93  77  87 ...,  80  89  55]\n",
      " [ 14 105  74 ...,  83  85  86]\n",
      " [116  65  49 ...,  35 109  82]]\n",
      "---\n",
      "[[ 78  82  69 ...,  93  57  73]\n",
      " [ 84 100  66 ...,  95  65  82]\n",
      " [103 104  45 ...,  42  64  74]\n",
      " ..., \n",
      " [179 140 168 ...,  73  92  92]\n",
      " [177 154 176 ...,  95  78  65]\n",
      " [165 183 145 ...,  70  49  63]]\n",
      "---\n",
      "[[ 66  50  67 ..., 119  78  52]\n",
      " [ 34 106  87 ...,  61  49  61]\n",
      " [ 79  55  60 ...,  90  56 100]\n",
      " ..., \n",
      " [153 155 162 ...,  97  34  62]\n",
      " [182 163 166 ...,  66  93  71]\n",
      " [191 186 213 ...,  53  81  94]]\n",
      "---\n",
      "[[ 68  99  73 ...,  84 100  85]\n",
      " [ 67  57  78 ..., 121  82  96]\n",
      " [ 95  89  67 ..., 183 147 175]\n",
      " ..., \n",
      " [ 56 103  93 ...,  88  55  72]\n",
      " [ 89  88  82 ...,  51 104  94]\n",
      " [ 64  52  85 ..., 103 106  79]]\n",
      "---\n",
      "[[173 188 174 ...,  66  78  76]\n",
      " [207 183 181 ..., 100  53  73]\n",
      " [153 184 164 ...,  48  36  91]\n",
      " ..., \n",
      " [ 83  53  78 ...,  85  75  61]\n",
      " [ 83  68  74 ...,  79  68  51]\n",
      " [ 76 108  79 ...,  70 106  72]]\n",
      "---\n",
      "[[ 93  82 109 ..., 163 182 196]\n",
      " [ 71  50  93 ..., 213 193 177]\n",
      " [ 83  97 114 ..., 165 191 173]\n",
      " ..., \n",
      " [106  91  82 ..., 160 169 136]\n",
      " [ 75  88  87 ..., 182 189 167]\n",
      " [ 98 105 117 ..., 170 147 158]]\n",
      "---\n",
      "[[104  72  87 ..., 150 211 188]\n",
      " [ 63  46  49 ..., 153 167 168]\n",
      " [ 72  73  67 ..., 172 167 173]\n",
      " ..., \n",
      " [100  85  76 ..., 116  84 124]\n",
      " [ 71  90  66 ...,  77  64  91]\n",
      " [ 89  51  96 ...,  61  87  64]]\n",
      "---\n",
      "[[160 173 173 ...,  95  61  93]\n",
      " [189 185 153 ...,  65 102 100]\n",
      " [171 185 197 ...,  88  86  65]\n",
      " ..., \n",
      " [ 74  92  38 ..., 172 157 187]\n",
      " [ 70 100  95 ..., 158 186 187]\n",
      " [105  51  80 ..., 161 190 164]]\n",
      "---\n",
      "[[ 88 107  77 ...,  87  79  63]\n",
      " [109  94  92 ..., 106  54 105]\n",
      " [ 78  61  48 ...,  54  73  76]\n",
      " ..., \n",
      " [ 61  85 107 ...,  77 112  60]\n",
      " [ 93  64  82 ...,  87  64  61]\n",
      " [ 55  63  90 ...,  96  96  93]]\n",
      "---\n"
     ]
    }
   ],
   "source": [
    "for i in range(10):\n",
    "    img = gen_slide()\n",
    "    img.save('data/slide-{}.png')"
   ]
  },
  {
   "cell_type": "code",
   "execution_count": null,
   "metadata": {
    "collapsed": true
   },
   "outputs": [],
   "source": []
  }
 ],
 "metadata": {
  "kernelspec": {
   "display_name": "Python 3 (Anaconda)",
   "language": "python",
   "name": "anaconda_py3"
  },
  "language_info": {
   "codemirror_mode": {
    "name": "ipython",
    "version": 3
   },
   "file_extension": ".py",
   "mimetype": "text/x-python",
   "name": "python",
   "nbconvert_exporter": "python",
   "pygments_lexer": "ipython3",
   "version": "3.5.2"
  }
 },
 "nbformat": 4,
 "nbformat_minor": 1
}
