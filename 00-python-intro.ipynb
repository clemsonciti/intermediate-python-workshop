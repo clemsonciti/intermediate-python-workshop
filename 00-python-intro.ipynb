{
 "cells": [
  {
   "cell_type": "markdown",
   "metadata": {},
   "source": [
    "# Python Basics"
   ]
  },
  {
   "cell_type": "markdown",
   "metadata": {},
   "source": [
    "Prepared by: Cindee Madison, Thomas Kluyver\n",
    "\n",
    "Thanks to: Justin Kitzes, Matt Davis\n",
    "\n",
    "Adapted by: Ashwin Srinath"
   ]
  },
  {
   "cell_type": "markdown",
   "metadata": {},
   "source": [
    "# 0. Python 2 or 3\n",
    "\n",
    "\n",
    "Currently, two major versions of Python are in use by the community.\n",
    "Whenever possible, aim to use Python 3. [Almost all](http://py3readiness.org/) major Python packages now support Python 3 and [many projects](https://python3statement.github.io/) in the Scientific Python community have pledged to end support for Python 2 by 2020."
   ]
  },
  {
   "cell_type": "markdown",
   "metadata": {},
   "source": [
    "## 1. Names and values\n",
    "\n",
    "* Values are pieces of data, such as integers, floats, booleans, functions, classes, files, etc.\n",
    "* Values can be given names using the `=` operator\n",
    "* Names are also called \"variables\", and values are also called \"objects\""
   ]
  },
  {
   "cell_type": "code",
   "execution_count": 2,
   "metadata": {
    "collapsed": false
   },
   "outputs": [
    {
     "data": {
      "text/plain": [
       "2"
      ]
     },
     "execution_count": 2,
     "metadata": {},
     "output_type": "execute_result"
    }
   ],
   "source": [
    "# A value (integer):\n",
    "2"
   ]
  },
  {
   "cell_type": "code",
   "execution_count": 3,
   "metadata": {
    "collapsed": false
   },
   "outputs": [
    {
     "data": {
      "text/plain": [
       "'hello'"
      ]
     },
     "execution_count": 3,
     "metadata": {},
     "output_type": "execute_result"
    }
   ],
   "source": [
    "# Another value (string):\n",
    "\"hello\""
   ]
  },
  {
   "cell_type": "code",
   "execution_count": 4,
   "metadata": {
    "collapsed": false
   },
   "outputs": [
    {
     "name": "stdout",
     "output_type": "stream",
     "text": [
      "2 hello True\n"
     ]
    }
   ],
   "source": [
    "# Giving names to values (creating variables):\n",
    "a = 2\n",
    "b = 'hello'\n",
    "c = True  # This is case sensitive\n",
    "print(a, b, c)"
   ]
  },
  {
   "cell_type": "markdown",
   "metadata": {},
   "source": [
    "### Assignment *never* copies data"
   ]
  },
  {
   "cell_type": "code",
   "execution_count": 5,
   "metadata": {
    "collapsed": false
   },
   "outputs": [
    {
     "name": "stdout",
     "output_type": "stream",
     "text": [
      "[2, 2, 3]\n",
      "[2, 2, 3]\n"
     ]
    }
   ],
   "source": [
    "L = [1, 2, 3]\n",
    "M = L # M is not a copy of L\n",
    "M[0] = 2\n",
    "print(L)\n",
    "print(M)"
   ]
  },
  {
   "cell_type": "code",
   "execution_count": 6,
   "metadata": {
    "collapsed": false
   },
   "outputs": [
    {
     "name": "stdout",
     "output_type": "stream",
     "text": [
      "1\n",
      "2\n"
     ]
    }
   ],
   "source": [
    "L = 1\n",
    "M = L\n",
    "M = 2 # creating new data (2) and assigning the name \"M\" to it\n",
    "print(L)\n",
    "print(M)"
   ]
  },
  {
   "cell_type": "code",
   "execution_count": 7,
   "metadata": {
    "collapsed": false
   },
   "outputs": [
    {
     "name": "stdout",
     "output_type": "stream",
     "text": [
      "[1, 2, 3]\n",
      "[1, 2, 3, 3]\n"
     ]
    }
   ],
   "source": [
    "L = [1, 2, 3]\n",
    "M = L\n",
    "M = L + [3] # creating new data ([1, 2, 3, 3]) and assigning the name \"M\" to it\n",
    "print(L)\n",
    "print(M)"
   ]
  },
  {
   "cell_type": "markdown",
   "metadata": {},
   "source": [
    "More about names and values: http://nedbatchelder.com/text/names.html"
   ]
  },
  {
   "cell_type": "markdown",
   "metadata": {},
   "source": [
    "### Types of values"
   ]
  },
  {
   "cell_type": "code",
   "execution_count": 8,
   "metadata": {
    "collapsed": false
   },
   "outputs": [
    {
     "name": "stdout",
     "output_type": "stream",
     "text": [
      "<class 'int'>\n",
      "<class 'str'>\n",
      "<class 'bool'>\n"
     ]
    }
   ],
   "source": [
    "# The type function tells us the type of an object\n",
    "print(type(a))\n",
    "print(type(b))\n",
    "print(type(c))"
   ]
  },
  {
   "cell_type": "code",
   "execution_count": 9,
   "metadata": {
    "collapsed": false
   },
   "outputs": [
    {
     "name": "stdout",
     "output_type": "stream",
     "text": [
      "[1, 2, 3, 4]\n"
     ]
    }
   ],
   "source": [
    "# Some objects are mutable (can be changed)\n",
    "L = [1, 2, 3]\n",
    "L.append(4) # changes L\n",
    "print(L)"
   ]
  },
  {
   "cell_type": "code",
   "execution_count": 10,
   "metadata": {
    "collapsed": false
   },
   "outputs": [
    {
     "ename": "AttributeError",
     "evalue": "'tuple' object has no attribute 'append'",
     "output_type": "error",
     "traceback": [
      "\u001b[0;31m---------------------------------------------------------------------------\u001b[0m",
      "\u001b[0;31mAttributeError\u001b[0m                            Traceback (most recent call last)",
      "\u001b[0;32m<ipython-input-10-1a1d1aed8ce1>\u001b[0m in \u001b[0;36m<module>\u001b[0;34m()\u001b[0m\n\u001b[1;32m      1\u001b[0m \u001b[0;31m# Others are immutable (cannot be changed)\u001b[0m\u001b[0;34m\u001b[0m\u001b[0;34m\u001b[0m\u001b[0m\n\u001b[1;32m      2\u001b[0m \u001b[0mL\u001b[0m \u001b[0;34m=\u001b[0m \u001b[0;34m(\u001b[0m\u001b[0;36m1\u001b[0m\u001b[0;34m,\u001b[0m \u001b[0;36m2\u001b[0m\u001b[0;34m,\u001b[0m \u001b[0;36m3\u001b[0m\u001b[0;34m)\u001b[0m\u001b[0;34m\u001b[0m\u001b[0m\n\u001b[0;32m----> 3\u001b[0;31m \u001b[0mL\u001b[0m\u001b[0;34m.\u001b[0m\u001b[0mappend\u001b[0m\u001b[0;34m(\u001b[0m\u001b[0;36m4\u001b[0m\u001b[0;34m)\u001b[0m\u001b[0;34m\u001b[0m\u001b[0m\n\u001b[0m",
      "\u001b[0;31mAttributeError\u001b[0m: 'tuple' object has no attribute 'append'"
     ]
    }
   ],
   "source": [
    "# Others are immutable (cannot be changed)\n",
    "L = (1, 2, 3)\n",
    "L.append(4)"
   ]
  },
  {
   "cell_type": "markdown",
   "metadata": {},
   "source": [
    "## Operating on values\n",
    "\n",
    "Giving names to values isn't much use to us.\n",
    "Right away, we'd like to start performing\n",
    "operations and manipulations on values.\n",
    "\n",
    "There are three very common means of performing operations on values:"
   ]
  },
  {
   "cell_type": "markdown",
   "metadata": {},
   "source": [
    "### Operators\n",
    "\n",
    "All of the basic math operators work like you think they should for numbers. They can also\n",
    "do some useful operations on other things, like strings. There are also boolean operators that\n",
    "compare quantities and give back a `bool` variable as a result."
   ]
  },
  {
   "cell_type": "code",
   "execution_count": 11,
   "metadata": {
    "collapsed": false
   },
   "outputs": [
    {
     "name": "stdout",
     "output_type": "stream",
     "text": [
      "5\n",
      "6\n",
      "8\n",
      "0.6666666666666666\n"
     ]
    }
   ],
   "source": [
    "# Standard math operators work as expected on numbers\n",
    "a = 2\n",
    "b = 3\n",
    "print(a + b)\n",
    "print(a * b)\n",
    "print(a ** b)  # a to the power of b (a^b does something completely different!)\n",
    "print(a / b)   # Careful with dividing integers if you use Python 2"
   ]
  },
  {
   "cell_type": "code",
   "execution_count": 12,
   "metadata": {
    "collapsed": false
   },
   "outputs": [
    {
     "name": "stdout",
     "output_type": "stream",
     "text": [
      "helloworld\n",
      "hellohellohello\n"
     ]
    }
   ],
   "source": [
    "# There are also operators for strings\n",
    "print('hello' + 'world')\n",
    "print('hello' * 3)\n",
    "#print('hello' / 3)  # You can't do this!"
   ]
  },
  {
   "cell_type": "code",
   "execution_count": 13,
   "metadata": {
    "collapsed": false
   },
   "outputs": [
    {
     "name": "stdout",
     "output_type": "stream",
     "text": [
      "False\n",
      "True\n",
      "True\n",
      "False\n"
     ]
    }
   ],
   "source": [
    "# Boolean operators compare two things\n",
    "a = (1 > 3)\n",
    "b = (3 == 3)\n",
    "print(a)\n",
    "print(b)\n",
    "print(a or b)\n",
    "print(a and b)"
   ]
  },
  {
   "cell_type": "markdown",
   "metadata": {},
   "source": [
    "### Functions\n",
    "\n",
    "These will be very familiar to anyone who has programmed in any language, and work like you\n",
    "would expect."
   ]
  },
  {
   "cell_type": "code",
   "execution_count": 14,
   "metadata": {
    "collapsed": false
   },
   "outputs": [
    {
     "name": "stdout",
     "output_type": "stream",
     "text": [
      "<class 'int'>\n",
      "5\n",
      "3\n"
     ]
    }
   ],
   "source": [
    "# There are thousands of functions that operate on things\n",
    "print(type(3))\n",
    "print(len('hello'))\n",
    "print(round(3.3))"
   ]
  },
  {
   "cell_type": "markdown",
   "metadata": {},
   "source": [
    "__TIP:__ To find out what a function does, you can type it's name and then a question mark to\n",
    "get a pop up help window. Or, to see what arguments it takes, you can type its name, an open\n",
    "parenthesis, and hit tab."
   ]
  },
  {
   "cell_type": "code",
   "execution_count": 15,
   "metadata": {
    "collapsed": false
   },
   "outputs": [
    {
     "data": {
      "text/plain": [
       "3.14"
      ]
     },
     "execution_count": 15,
     "metadata": {},
     "output_type": "execute_result"
    }
   ],
   "source": [
    "round?\n",
    "#round(\n",
    "round(3.14159, 2)"
   ]
  },
  {
   "cell_type": "markdown",
   "metadata": {},
   "source": [
    "__TIP:__ Many useful functions are not in the Python built in library, but are in external\n",
    "scientific packages. These need to be imported into your Python notebook (or program) before\n",
    "they can be used. Probably the most important of these are numpy and matplotlib."
   ]
  },
  {
   "cell_type": "code",
   "execution_count": 16,
   "metadata": {
    "collapsed": false
   },
   "outputs": [],
   "source": [
    "# Many useful functions are in external packages\n",
    "# Let's meet numpy\n",
    "import numpy as np"
   ]
  },
  {
   "cell_type": "code",
   "execution_count": 17,
   "metadata": {
    "collapsed": false
   },
   "outputs": [
    {
     "ename": "SyntaxError",
     "evalue": "invalid syntax (<ipython-input-17-92f5fbcbdb0b>, line 3)",
     "output_type": "error",
     "traceback": [
      "\u001b[0;36m  File \u001b[0;32m\"<ipython-input-17-92f5fbcbdb0b>\"\u001b[0;36m, line \u001b[0;32m3\u001b[0m\n\u001b[0;31m    np.\u001b[0m\n\u001b[0m       ^\u001b[0m\n\u001b[0;31mSyntaxError\u001b[0m\u001b[0;31m:\u001b[0m invalid syntax\n"
     ]
    }
   ],
   "source": [
    "# To see what's in a package, type the name, a period, then hit tab\n",
    "#np?\n",
    "np."
   ]
  },
  {
   "cell_type": "code",
   "execution_count": 18,
   "metadata": {
    "collapsed": false
   },
   "outputs": [
    {
     "name": "stdout",
     "output_type": "stream",
     "text": [
      "2.0\n",
      "3.141592653589793\n",
      "1.22464679915e-16\n"
     ]
    }
   ],
   "source": [
    "# Some examples of numpy functions and \"things\"\n",
    "print(np.sqrt(4))\n",
    "print(np.pi)  # Not a function, just a variable\n",
    "print(np.sin(np.pi))"
   ]
  },
  {
   "cell_type": "markdown",
   "metadata": {},
   "source": [
    "### 2.3 Use a method\n",
    "\n",
    "Before we get any farther into the Python language, we have to say a word about \"objects\". We\n",
    "will not be teaching object oriented programming in this workshop, but you will encounter objects\n",
    "throughout Python (in fact, even seemingly simple things like ints and strings are actually\n",
    "objects in Python).\n",
    "\n",
    "In the simplest terms, you can think of an object as a bundle, containing:\n",
    "\n",
    "* Some data, and\n",
    "* Functions to operate on that data\n",
    "\n",
    "For example, strings in Python are\n",
    "objects that contain a set of characters and also various functions that operate on the set of\n",
    "characters. When bundled in an object, these functions are called \"methods\".\n",
    "\n",
    "Instead of the \"normal\" `function(arguments)` syntax, methods are called using the\n",
    "syntax `variable.method(arguments)`."
   ]
  },
  {
   "cell_type": "code",
   "execution_count": 19,
   "metadata": {
    "collapsed": false
   },
   "outputs": [
    {
     "name": "stdout",
     "output_type": "stream",
     "text": [
      "<class 'str'>\n"
     ]
    }
   ],
   "source": [
    "# A string is actually an object\n",
    "a = 'hello, world'\n",
    "print(type(a))"
   ]
  },
  {
   "cell_type": "code",
   "execution_count": 20,
   "metadata": {
    "collapsed": false
   },
   "outputs": [
    {
     "name": "stdout",
     "output_type": "stream",
     "text": [
      "Hello, world\n",
      "heXXo, worXd\n"
     ]
    }
   ],
   "source": [
    "# Objects have bundled methods\n",
    "# use a.<tab> to see all methods\n",
    "print(a.capitalize())\n",
    "print(a.replace('l', 'X'))"
   ]
  },
  {
   "cell_type": "markdown",
   "metadata": {},
   "source": [
    "### Exercise 1 - Conversion\n",
    "\n",
    "Throughout this lesson, we will successively build towards a program that will calculate the\n",
    "variance of some measurements,  in this case **Heights in metres**.  The first thing we want to do is convert from an antiquated measurement system (inches).\n",
    "\n",
    "To change inches into metres we use the following equation (conversion factor is rounded)\n",
    "\n",
    "$metre = \\frac{inches}{39}$\n",
    "\n",
    "1. Measure your height in inches (as inaccurately as you want).\n",
    "Create a variable (`inches`) for your height in inches, as inaccurately as you want.\n",
    "1. create a variable for the conversion factor, called `inches_in_metre`.\n",
    "1. Divide `inches` by `inches_in_metre`, and store the result in a new variable, `metres`.\n",
    "1. Print the result\n"
   ]
  },
  {
   "cell_type": "markdown",
   "metadata": {},
   "source": [
    "__TIP:__ A 'gotcha' for all python 2 users (it was changed in python 3) is the result of integer division. To make it work the obvious way, either:\n",
    "\n",
    "1. `inches_in_metre = 39.`  (add the decimal to cast to a float, or use 39.4 to be more accurate)\n",
    "2. `from __future__ import division` -  Put this at the **top** of the code and it will work "
   ]
  },
  {
   "cell_type": "markdown",
   "metadata": {},
   "source": [
    "## 3. Collections of objects\n",
    "\n",
    "While it is interesting to explore your own height, in science we work with larger  slightly more complex datasets. In this example, we are interested in the characteristics and distribution of heights. Python provides us with a number of objects to handle collections of things.\n",
    "\n",
    "Probably 99% of your work in scientific Python will use one of four types of collections:\n",
    "`lists`, `tuples`, `dictionaries`, and `numpy arrays`. We'll look quickly at each of these and what\n",
    "they can do for you."
   ]
  },
  {
   "cell_type": "markdown",
   "metadata": {},
   "source": [
    "### 3.1 Lists\n",
    "\n",
    "Lists are collections of objects, and are declared with square brackets `[]`. \n",
    "Individual elements of a list can be selected using the syntax `a[ind]`."
   ]
  },
  {
   "cell_type": "code",
   "execution_count": 21,
   "metadata": {
    "collapsed": false
   },
   "outputs": [
    {
     "name": "stdout",
     "output_type": "stream",
     "text": [
      "['blueberry', 'strawberry', 'pineapple'] <class 'list'>\n"
     ]
    }
   ],
   "source": [
    "# Lists are created with square bracket syntax\n",
    "a = ['blueberry', 'strawberry', 'pineapple']\n",
    "print(a, type(a))"
   ]
  },
  {
   "cell_type": "code",
   "execution_count": 22,
   "metadata": {
    "collapsed": false
   },
   "outputs": [
    {
     "name": "stdout",
     "output_type": "stream",
     "text": [
      "blueberry\n",
      "strawberry\n"
     ]
    }
   ],
   "source": [
    "# Lists (and all collections) are also indexed with square brackets\n",
    "# NOTE: The first index is zero, not one\n",
    "print(a[0])\n",
    "print(a[1])"
   ]
  },
  {
   "cell_type": "code",
   "execution_count": 23,
   "metadata": {
    "collapsed": false
   },
   "outputs": [
    {
     "name": "stdout",
     "output_type": "stream",
     "text": [
      "last item is: pineapple\n",
      "second to last item is: strawberry\n"
     ]
    }
   ],
   "source": [
    "## You can also count from the end of the list\n",
    "print('last item is:', a[-1])\n",
    "print('second to last item is:', a[-2])"
   ]
  },
  {
   "cell_type": "code",
   "execution_count": 24,
   "metadata": {
    "collapsed": false
   },
   "outputs": [
    {
     "name": "stdout",
     "output_type": "stream",
     "text": [
      "a = ['blueberry', 'strawberry', 'pineapple']\n",
      "get first two: ['blueberry', 'strawberry']\n"
     ]
    }
   ],
   "source": [
    "# you can access multiple items from a list by slicing, using a colon between indexes\n",
    "# NOTE: The end value is not inclusive\n",
    "print('a =', a)\n",
    "print('get first two:', a[0:2])"
   ]
  },
  {
   "cell_type": "code",
   "execution_count": 25,
   "metadata": {
    "collapsed": false
   },
   "outputs": [
    {
     "name": "stdout",
     "output_type": "stream",
     "text": [
      "['blueberry', 'strawberry']\n",
      "['pineapple']\n",
      "['blueberry', 'strawberry', 'pineapple']\n",
      "['blueberry', 'strawberry']\n"
     ]
    }
   ],
   "source": [
    "# You can leave off the start or end if desired\n",
    "print(a[:2])\n",
    "print(a[2:])\n",
    "print(a[:])\n",
    "print(a[:-1])"
   ]
  },
  {
   "cell_type": "code",
   "execution_count": 26,
   "metadata": {
    "collapsed": false
   },
   "outputs": [
    {
     "name": "stdout",
     "output_type": "stream",
     "text": [
      "['blueberry', 'strawberry', 'pineapple', 'banana']\n",
      "['blueberry', 'strawberry', 'pineapple', 'banana', [1, 2]]\n",
      "['blueberry', 'strawberry', 'pineapple', 'banana']\n"
     ]
    }
   ],
   "source": [
    "# Lists are objects, like everything else, and have methods such as append\n",
    "a.append('banana')\n",
    "print(a)\n",
    "\n",
    "a.append([1,2])\n",
    "print(a)\n",
    "\n",
    "a.pop()\n",
    "print(a)"
   ]
  },
  {
   "cell_type": "code",
   "execution_count": 27,
   "metadata": {
    "collapsed": false
   },
   "outputs": [
    {
     "name": "stdout",
     "output_type": "stream",
     "text": [
      "[1, 2, 'hello', [1, 2, 3]]\n",
      "3\n"
     ]
    }
   ],
   "source": [
    "# Lists can bundle together objects of different types\n",
    "a = [1, 2, 'hello', [1, 2, 3]]\n",
    "print(a)\n",
    "print(a[-1][2])"
   ]
  },
  {
   "cell_type": "markdown",
   "metadata": {},
   "source": [
    "### EXERCISE 2 - Store a collection of heights (in metres) in a list\n",
    "\n",
    "1. Ask five people around you for their heights (in metres).\n",
    "2. Store these in a list called `heights`.\n",
    "3. Append your own height, calculated above in the variable *metres*, to the list.\n",
    "4. Get the first height from the list and print it."
   ]
  },
  {
   "cell_type": "markdown",
   "metadata": {},
   "source": [
    "### Tuples\n",
    "\n",
    "Tuples work just like lists, with\n",
    "two major exceptions:\n",
    "\n",
    "1. You declare tuples using `()` instead of `[]`\n",
    "1. Once you make a tuple, you can't change what's in it (referred to as immutable)\n",
    "\n",
    "In general, they're often used instead of lists:\n",
    "\n",
    "1. to group items when the position in the collection is critical, such as coord = (x,y)\n",
    "1. when you want to make prevent accidental modification of the items, e.g. shape = (12,23)"
   ]
  },
  {
   "cell_type": "code",
   "execution_count": 28,
   "metadata": {
    "collapsed": false
   },
   "outputs": [
    {
     "name": "stdout",
     "output_type": "stream",
     "text": [
      "23\n"
     ]
    },
    {
     "ename": "TypeError",
     "evalue": "'tuple' object does not support item assignment",
     "output_type": "error",
     "traceback": [
      "\u001b[0;31m---------------------------------------------------------------------------\u001b[0m",
      "\u001b[0;31mTypeError\u001b[0m                                 Traceback (most recent call last)",
      "\u001b[0;32m<ipython-input-28-33d329ddbcc1>\u001b[0m in \u001b[0;36m<module>\u001b[0;34m()\u001b[0m\n\u001b[1;32m      1\u001b[0m \u001b[0mxy\u001b[0m \u001b[0;34m=\u001b[0m \u001b[0;34m(\u001b[0m\u001b[0;36m23\u001b[0m\u001b[0;34m,\u001b[0m \u001b[0;36m45\u001b[0m\u001b[0;34m)\u001b[0m\u001b[0;34m\u001b[0m\u001b[0m\n\u001b[1;32m      2\u001b[0m \u001b[0mprint\u001b[0m\u001b[0;34m(\u001b[0m\u001b[0mxy\u001b[0m\u001b[0;34m[\u001b[0m\u001b[0;36m0\u001b[0m\u001b[0;34m]\u001b[0m\u001b[0;34m)\u001b[0m\u001b[0;34m\u001b[0m\u001b[0m\n\u001b[0;32m----> 3\u001b[0;31m \u001b[0mxy\u001b[0m\u001b[0;34m[\u001b[0m\u001b[0;36m0\u001b[0m\u001b[0;34m]\u001b[0m \u001b[0;34m=\u001b[0m \u001b[0;36m22\u001b[0m \u001b[0;31m# this won't work\u001b[0m\u001b[0;34m\u001b[0m\u001b[0m\n\u001b[0m",
      "\u001b[0;31mTypeError\u001b[0m: 'tuple' object does not support item assignment"
     ]
    }
   ],
   "source": [
    "xy = (23, 45)\n",
    "print(xy[0])\n",
    "xy[0] = 22 # this won't work"
   ]
  },
  {
   "cell_type": "markdown",
   "metadata": {},
   "source": [
    "#### Anatomy of a traceback error\n",
    "\n",
    "Traceback errors are `raised` when you try to do something with code it isn't meant to do.  It is also meant to be informative, but like many things, it is not always as informative as we would like.\n",
    "\n",
    "Looking at our error:\n",
    "\n",
    "    ---------------------------------------------------------------------------\n",
    "    TypeError                                 Traceback (most recent call last)\n",
    "    <ipython-input-6-33d329ddbcc1> in <module>()\n",
    "          1 xy = (23, 45)\n",
    "          2 print(xy[0])\n",
    "    ----> 3 xy[0] = 22 # this won't work\n",
    "\n",
    "    TypeError: 'tuple' object does not support item assignment\n",
    "    \n",
    "1. The command you tried to run raise a **TypeError**  This suggests you are using a variable in a way that its **Type** doesnt support\n",
    "2. the arrow ----> points to the line where the error occurred, In this case on line 3 of your code.\n",
    "3. Learning how to **read** a traceback error is an important skill to develop, and helps you know how to ask questions about what has gone wrong in your code.\n"
   ]
  },
  {
   "cell_type": "markdown",
   "metadata": {},
   "source": [
    "### Dictionaries\n",
    "\n",
    "Lists and tuples are *indexed* using integers, `phonebook[0]` gives the first item in a list `phonebook`\n",
    "`phonebook[1]` gives the second, and so on.\n",
    "Dictionaries are useful when you would like the index to be something other than an integer.\n",
    "For example, `phonebook['Jeff']`, or `model['temperature']`."
   ]
  },
  {
   "cell_type": "code",
   "execution_count": 29,
   "metadata": {
    "collapsed": false
   },
   "outputs": [
    {
     "name": "stdout",
     "output_type": "stream",
     "text": [
      "{'wolfman': 122619, 'dracula': 399423}\n",
      "122619\n"
     ]
    }
   ],
   "source": [
    "# Make a dictionary of model parameters\n",
    "phonebook = {'wolfman' : 122619,\n",
    "             'dracula' : 399423}\n",
    "\n",
    "print(phonebook)\n",
    "print(phonebook['wolfman'])"
   ]
  },
  {
   "cell_type": "code",
   "execution_count": 30,
   "metadata": {
    "collapsed": false
   },
   "outputs": [
    {
     "name": "stdout",
     "output_type": "stream",
     "text": [
      "{'frank': 160934, 'wolfman': 122619, 'dracula': 399423}\n"
     ]
    }
   ],
   "source": [
    "## Add a new key:value pair\n",
    "phonebook['frank'] = 160934\n",
    "print(phonebook)"
   ]
  },
  {
   "cell_type": "markdown",
   "metadata": {},
   "source": [
    "The indices of a dictionary are called \"keys\". Thus a dictionary is a collection of key-value pairs. In the above example, `wolfman`, `dracula` and `frank` are the keys, and `122619`, `399423` and `160934` are the values of the dictionary. Keys and values can be any type of Python objects (strings, ints, even functions).\n",
    "\n",
    "Explore the methods provided for dictionaries by typing: `phonebook.<tab>`"
   ]
  },
  {
   "cell_type": "markdown",
   "metadata": {},
   "source": [
    "### 3.4 Numpy arrays (ndarrays)\n",
    "\n",
    "Even though numpy arrays (often written as ndarrays, for n-dimensional arrays) are not part of the\n",
    "core Python libraries, they are so useful in scientific Python that we'll include them here in the \n",
    "core \"collections\". Numpy arrays work similar to lists, with the following major differences:\n",
    "\n",
    "1. All items in an array must be of the same type (often floats or ints)\n",
    "1. Arrays can be n-dimensional\n",
    "\n",
    "Arrays can be created from existing collections such as lists, or \"from scratch\"."
   ]
  },
  {
   "cell_type": "code",
   "execution_count": 31,
   "metadata": {
    "collapsed": false
   },
   "outputs": [],
   "source": [
    "# We need to import the numpy library to have access to it \n",
    "# We can also create an alias for a library, this is something you will commonly see with numpy\n",
    "import numpy as np"
   ]
  },
  {
   "cell_type": "code",
   "execution_count": 32,
   "metadata": {
    "collapsed": false
   },
   "outputs": [
    {
     "name": "stdout",
     "output_type": "stream",
     "text": [
      "[2 3 4] <class 'numpy.ndarray'>\n",
      "[5 6 7] <class 'numpy.ndarray'>\n"
     ]
    }
   ],
   "source": [
    "# Make an array from a list\n",
    "alist = [2, 3, 4]\n",
    "blist = [5, 6, 7]\n",
    "a = np.array(alist)\n",
    "b = np.array(blist)\n",
    "print(a, type(a))\n",
    "print(b, type(b))"
   ]
  },
  {
   "cell_type": "code",
   "execution_count": 33,
   "metadata": {
    "collapsed": false
   },
   "outputs": [
    {
     "name": "stdout",
     "output_type": "stream",
     "text": [
      "[ 4  9 16]\n",
      "[ 0.90929743  0.14112001 -0.7568025 ]\n",
      "[10 18 28]\n",
      "56 56\n"
     ]
    }
   ],
   "source": [
    "# Lots of operations are elementwise\n",
    "print(a**2)\n",
    "print(np.sin(a))\n",
    "print(a * b)\n",
    "\n",
    "# Arrays easily support vector and matrix algebra\n",
    "print(a.dot(b), np.dot(a, b))"
   ]
  },
  {
   "cell_type": "code",
   "execution_count": 34,
   "metadata": {
    "collapsed": false
   },
   "outputs": [
    {
     "name": "stdout",
     "output_type": "stream",
     "text": [
      "[False  True  True]\n",
      "[False  True False]\n",
      "[False  True  True]\n",
      "<class 'numpy.ndarray'>\n",
      "bool\n"
     ]
    }
   ],
   "source": [
    "# Boolean operators work on arrays too, and they return boolean arrays\n",
    "print(a > 2)\n",
    "print(b == 6)\n",
    "\n",
    "c = a > 2\n",
    "print(c)\n",
    "print(type(c))\n",
    "print(c.dtype)"
   ]
  },
  {
   "cell_type": "code",
   "execution_count": 35,
   "metadata": {
    "collapsed": false
   },
   "outputs": [
    {
     "name": "stdout",
     "output_type": "stream",
     "text": [
      "[2 3]\n",
      "[[ 0.98885824  0.7729165   0.13001836]\n",
      " [ 0.16783132  0.23550042  0.58985964]\n",
      " [ 0.63389368  0.10600104  0.98772164]]\n",
      "\n",
      "[[ 0.16783132  0.23550042]\n",
      " [ 0.63389368  0.10600104]]\n",
      "\n",
      "[[ 2.          3.          4.        ]\n",
      " [ 0.16783132  0.23550042  0.58985964]\n",
      " [ 0.63389368  0.10600104  0.98772164]]\n"
     ]
    }
   ],
   "source": [
    "# Indexing arrays\n",
    "print(a[0:2])\n",
    "\n",
    "c = np.random.rand(3,3)\n",
    "print(c)\n",
    "print()\n",
    "print(c[1:3,0:2])\n",
    "\n",
    "c[0,:] = a\n",
    "print()\n",
    "print(c)"
   ]
  },
  {
   "cell_type": "code",
   "execution_count": 36,
   "metadata": {
    "collapsed": false
   },
   "outputs": [
    {
     "name": "stdout",
     "output_type": "stream",
     "text": [
      "[2 3 4]\n",
      "[5 6 7]\n",
      "[False  True  True]\n",
      "[3 4]\n",
      "[6 7]\n",
      "[ 5 77  7]\n"
     ]
    }
   ],
   "source": [
    "# Arrays can also be indexed with other boolean arrays\n",
    "# such boolean arrays are referred to as \"masks\"\n",
    "print(a)\n",
    "print(b)\n",
    "print(a > 2)\n",
    "print(a[a > 2])\n",
    "print(b[a > 2])\n",
    "\n",
    "b[a == 3] = 77\n",
    "print(b)"
   ]
  },
  {
   "cell_type": "code",
   "execution_count": 37,
   "metadata": {
    "collapsed": false
   },
   "outputs": [
    {
     "name": "stdout",
     "output_type": "stream",
     "text": [
      "(3, 3)\n",
      "0.0371351966864\n"
     ]
    }
   ],
   "source": [
    "# ndarrays have attributes in addition to methods\n",
    "#c.\n",
    "print(c.shape)\n",
    "print(c.prod())"
   ]
  },
  {
   "cell_type": "code",
   "execution_count": 38,
   "metadata": {
    "collapsed": false
   },
   "outputs": [
    {
     "name": "stdout",
     "output_type": "stream",
     "text": [
      "[ 0.  0.  0.  0.  0.] \n",
      "\n",
      "[ 1.  1.  1.  1.  1.] \n",
      "\n",
      "[[ 1.  0.  0.  0.  0.]\n",
      " [ 0.  1.  0.  0.  0.]\n",
      " [ 0.  0.  1.  0.  0.]\n",
      " [ 0.  0.  0.  1.  0.]\n",
      " [ 0.  0.  0.  0.  1.]] \n",
      "\n"
     ]
    }
   ],
   "source": [
    "# There are handy ways to make arrays full of ones and zeros\n",
    "print(np.zeros(5), '\\n')\n",
    "print(np.ones(5), '\\n')\n",
    "print(np.identity(5), '\\n')"
   ]
  },
  {
   "cell_type": "code",
   "execution_count": 39,
   "metadata": {
    "collapsed": false
   },
   "outputs": [
    {
     "name": "stdout",
     "output_type": "stream",
     "text": [
      "[0 2 4 6 8]\n"
     ]
    }
   ],
   "source": [
    "# You can also easily make arrays of number sequences\n",
    "print(np.arange(0, 10, 2))"
   ]
  },
  {
   "cell_type": "markdown",
   "metadata": {},
   "source": [
    "### EXERCISE 3 - Using Arrays for simple analysis\n",
    "\n",
    "Revisit your list of heights\n",
    "\n",
    "1. turn it into an array\n",
    "2. calculate the mean\n",
    "3. create a mask of all heights greater than a certain value (your choice)\n",
    "4. find the mean of the masked heights\n",
    "\n",
    "__BONUS__\n",
    "\n",
    "1. find the number of heights greater than your threshold\n",
    "2. mean() can take an optional argument called axis, which allows you to calculate the mean across different axes, eg across rows or across columns. Create an array with two dimensions (not equal sized) and calculate the mean across rows and mean across columns. Use 'shape' to understand how the means are calculated.\n"
   ]
  },
  {
   "cell_type": "markdown",
   "metadata": {},
   "source": [
    "## 4. Repeating things\n",
    "\n",
    "`for` loops in Python are useful when you want to cycle over all of the items\n",
    "in a collection (such as all of the elements of an array).\n",
    "Another type of loop is the `while` loop,\n",
    "which is useful when you want to repeat a set of actions until some condition is reached.\n",
    "\n",
    "The basic examples below will work for looping over lists, tuples, and arrays. Looping over dictionaries\n",
    "is a bit different, since there is a key and a value for each item in a dictionary. Have a look at the\n",
    "Python docs for more information."
   ]
  },
  {
   "cell_type": "code",
   "execution_count": 40,
   "metadata": {
    "collapsed": false
   },
   "outputs": [
    {
     "name": "stdout",
     "output_type": "stream",
     "text": [
      "hi!\n",
      "hello!\n",
      "bye!\n"
     ]
    }
   ],
   "source": [
    "# A basic for loop - don't forget the white space!\n",
    "wordlist = ['hi', 'hello', 'bye']\n",
    "for word in wordlist:\n",
    "    print(word + '!')"
   ]
  },
  {
   "cell_type": "markdown",
   "metadata": {},
   "source": [
    "**Note on indentation**: Notice the indentation once we enter the for loop.  Every idented statement after the for loop declaration is part of the for loop.  This rule holds true for while loops, if statements, functions, etc. Required identation is one of the reasons Python is such a beautiful language to read.\n",
    "\n",
    "If you do not have consistent indentation you will get an `IndentationError`.  Fortunately, most code editors will ensure your indentation is correction.\n",
    "\n",
    "__NOTE__ In Python the default is to use four (4) spaces for each indentation, most editros can be configured to follow this guide."
   ]
  },
  {
   "cell_type": "code",
   "execution_count": 41,
   "metadata": {
    "collapsed": false
   },
   "outputs": [
    {
     "ename": "IndentationError",
     "evalue": "unindent does not match any outer indentation level (<ipython-input-41-53e14b328363>, line 4)",
     "output_type": "error",
     "traceback": [
      "\u001b[0;36m  File \u001b[0;32m\"<ipython-input-41-53e14b328363>\"\u001b[0;36m, line \u001b[0;32m4\u001b[0m\n\u001b[0;31m    print(new_word + '!') # Bad indent\u001b[0m\n\u001b[0m                                      ^\u001b[0m\n\u001b[0;31mIndentationError\u001b[0m\u001b[0;31m:\u001b[0m unindent does not match any outer indentation level\n"
     ]
    }
   ],
   "source": [
    "# Indentation error: Fix it!\n",
    "for word in wordlist:\n",
    "    new_word = word.capitalize()\n",
    "   print(new_word + '!') # Bad indent"
   ]
  },
  {
   "cell_type": "code",
   "execution_count": 42,
   "metadata": {
    "collapsed": false
   },
   "outputs": [
    {
     "name": "stdout",
     "output_type": "stream",
     "text": [
      "Sum is 85\n"
     ]
    }
   ],
   "source": [
    "# Sum all of the values in a collection using a for loop\n",
    "numlist = [1, 4, 77, 3]\n",
    "\n",
    "total = 0\n",
    "for num in numlist:\n",
    "    total = total + num\n",
    "    \n",
    "print(\"Sum is\", total)"
   ]
  },
  {
   "cell_type": "code",
   "execution_count": 43,
   "metadata": {
    "collapsed": false
   },
   "outputs": [
    {
     "name": "stdout",
     "output_type": "stream",
     "text": [
      "['hi', 'hello', 'bye']\n",
      "0 hi hi\n",
      "1 hello hello\n",
      "2 bye bye\n"
     ]
    }
   ],
   "source": [
    "# Often we want to loop over the indexes of a collection, not just the items\n",
    "print(wordlist)\n",
    "\n",
    "for i, word in enumerate(wordlist):\n",
    "    print(i, word, wordlist[i])"
   ]
  },
  {
   "cell_type": "code",
   "execution_count": 44,
   "metadata": {
    "collapsed": false
   },
   "outputs": [
    {
     "name": "stdout",
     "output_type": "stream",
     "text": [
      "1 2\n",
      "2 4\n",
      "3 8\n",
      "4 16\n",
      "5 32\n",
      "6 64\n",
      "7 128\n",
      "Reached a product of 128 at step number 7\n"
     ]
    }
   ],
   "source": [
    "# While loops are useful when you don't know how many steps you will need,\n",
    "# and want to stop once a certain condition is met.\n",
    "step = 0\n",
    "prod = 1\n",
    "while prod < 100:\n",
    "    step = step + 1\n",
    "    prod = prod * 2\n",
    "    print(step, prod)\n",
    "    \n",
    "print('Reached a product of', prod, 'at step number', step)"
   ]
  },
  {
   "cell_type": "markdown",
   "metadata": {},
   "source": [
    "__TIP:__ Once we start really generating useful and large collections of data, it becomes unwieldy to\n",
    "inspect our results manually. The code below shows how to make a very simple plot of an array.\n",
    "We'll do much more plotting later on, this is just to get started."
   ]
  },
  {
   "cell_type": "code",
   "execution_count": 45,
   "metadata": {
    "collapsed": false
   },
   "outputs": [
    {
     "data": {
      "text/plain": [
       "[<matplotlib.lines.Line2D at 0x105a255c0>]"
      ]
     },
     "execution_count": 45,
     "metadata": {},
     "output_type": "execute_result"
    },
    {
     "data": {
      "image/png": "[encoded data removed]",
      "text/plain": [
       "<matplotlib.figure.Figure at 0x10485f438>"
      ]
     },
     "metadata": {},
     "output_type": "display_data"
    }
   ],
   "source": [
    "%matplotlib inline\n",
    "import matplotlib.pyplot as plt\n",
    "\n",
    "# Make some x and y data and plot it\n",
    "y = np.arange(100)**2\n",
    "plt.plot(y)"
   ]
  },
  {
   "cell_type": "markdown",
   "metadata": {},
   "source": [
    "### EXERCISE 4 - Variance\n",
    "\n",
    "We can now calculate the variance of the heights we collected before---you can work either with the list or the array of heights. As a reminder, **sample variance** is the calculated from the sum of squared differences of each observation from the mean:\n",
    "\n",
    "$variance = \\frac{\\Sigma{(x-mean)^2}}{n-1}$\n",
    "\n",
    "where **mean** is the mean of our observations, **x** is each individual observation, and **n** is the number of observations. First, we need to calculate the mean, for this, you can simply use the `mean` function provided by `numpy`:\n",
    "\n",
    "    mean_height = np.mean(heights)\n",
    "\n",
    "Now use a loop to calculate the variance:\n",
    "\n",
    "1. Set the value `sum_diffsq` to be 0\n",
    "2. Make a `for` loop over `heights`.\n",
    "  - At each step, subtract each height from the mean and call it `diff`. \n",
    "  - Square this and call it `diffsq`.\n",
    "  - Add `diffsq` on to `sum_diffsq`.\n",
    "3. Divide `sum_diffsq` by `n-1` to get the variance.\n",
    "4. Display the variance.\n",
    "\n",
    "__Note__: To square a number in Python, use `**`, eg. `5**2`.\n",
    "\n",
    "Compare your result with `np.var`. Why is it different?"
   ]
  },
  {
   "cell_type": "code",
   "execution_count": 55,
   "metadata": {
    "collapsed": false
   },
   "outputs": [
    {
     "name": "stdout",
     "output_type": "stream",
     "text": [
      "40.9166666667\n"
     ]
    }
   ],
   "source": [
    "heights = [15., 16., 12, 2.]\n",
    "mean_height = np.mean(heights)\n",
    "sum_diffsq = 0 \n",
    "for h in heights:\n",
    "    diff = h - mean_height\n",
    "    diffsq = diff**2\n",
    "    sum_diffsq += diffsq\n",
    "print(sum_diffsq/(3))"
   ]
  },
  {
   "cell_type": "markdown",
   "metadata": {},
   "source": [
    "## 5. Making choices\n",
    "\n",
    "Often we want to check if a condition is True and take one action if it is, and another action if the\n",
    "condition is False. We can achieve this in Python with an if statement.\n",
    "\n",
    "__TIP:__ You can use any expression that returns a boolean value (True or False) in an if statement.\n",
    "Common boolean operators are ==, !=, <, <=, >, >=. You can also use `is` and `is not` if you want to\n",
    "check if two variables are identical in the sense that they are stored in the same location in memory."
   ]
  },
  {
   "cell_type": "code",
   "execution_count": null,
   "metadata": {
    "collapsed": false
   },
   "outputs": [],
   "source": [
    "# A simple if statement\n",
    "x = 3\n",
    "if x > 0:\n",
    "    print('x is positive')\n",
    "elif x < 0:\n",
    "    print('x is negative')\n",
    "else:\n",
    "    print('x is zero')"
   ]
  },
  {
   "cell_type": "code",
   "execution_count": null,
   "metadata": {
    "collapsed": false
   },
   "outputs": [],
   "source": [
    "# If statements can rely on boolean variables\n",
    "x = -1\n",
    "test = (x > 0)\n",
    "print(type(test)); print(test)\n",
    "\n",
    "if test:\n",
    "    print('Test was true')"
   ]
  },
  {
   "cell_type": "markdown",
   "metadata": {},
   "source": [
    "## 6. Creating chunks with functions and modules\n",
    "\n",
    "One way to write a program is to simply string together commands, like the ones described above, in a long\n",
    "file, and then to run that file to generate your results. This may work, but it can be cognitively difficult\n",
    "to follow the logic of programs written in this style. Also, it does not allow you to reuse your code\n",
    "easily - for example, what if we wanted to run our logistic growth model for several different choices of\n",
    "initial parameters?\n",
    "\n",
    "The most important ways to \"chunk\" code into more manageable pieces is to create functions and then\n",
    "to gather these functions into modules, and eventually packages. Below we will discuss how to create\n",
    "functions and modules. A third common type of \"chunk\" in Python is classes, but we will not be covering\n",
    "object-oriented programming in this workshop."
   ]
  },
  {
   "cell_type": "code",
   "execution_count": 56,
   "metadata": {
    "collapsed": false
   },
   "outputs": [
    {
     "name": "stdout",
     "output_type": "stream",
     "text": [
      "3.33\n",
      "-0.190567635651\n"
     ]
    }
   ],
   "source": [
    "# We've been using functions all day\n",
    "x = 3.333333\n",
    "print(round(x, 2))\n",
    "print(np.sin(x))"
   ]
  },
  {
   "cell_type": "code",
   "execution_count": 57,
   "metadata": {
    "collapsed": true
   },
   "outputs": [],
   "source": [
    "# It's very easy to write your own functions\n",
    "def multiply(x, y):\n",
    "    return x*y"
   ]
  },
  {
   "cell_type": "code",
   "execution_count": 58,
   "metadata": {
    "collapsed": false
   },
   "outputs": [
    {
     "name": "stdout",
     "output_type": "stream",
     "text": [
      "<class 'function'>\n",
      "12\n"
     ]
    }
   ],
   "source": [
    "# Once a function is \"run\" and saved in memory, it's available just like any other function\n",
    "print(type(multiply))\n",
    "print(multiply(4, 3))"
   ]
  },
  {
   "cell_type": "code",
   "execution_count": 59,
   "metadata": {
    "collapsed": true
   },
   "outputs": [],
   "source": [
    "# It's useful to include docstrings to describe what your function does\n",
    "def say_hello(time, people):\n",
    "    '''\n",
    "    Function says a greeting. Useful for engendering goodwill\n",
    "    '''\n",
    "    return 'Good ' + time + ', ' + people"
   ]
  },
  {
   "cell_type": "markdown",
   "metadata": {},
   "source": [
    "**Docstrings**: A docstring is a special type of comment that tells you what a function does.  You can see them when you ask for help about a function."
   ]
  },
  {
   "cell_type": "code",
   "execution_count": 60,
   "metadata": {
    "collapsed": false
   },
   "outputs": [
    {
     "data": {
      "text/plain": [
       "'Good afternoon, friends'"
      ]
     },
     "execution_count": 60,
     "metadata": {},
     "output_type": "execute_result"
    }
   ],
   "source": [
    "say_hello('afternoon', 'friends')"
   ]
  },
  {
   "cell_type": "code",
   "execution_count": 61,
   "metadata": {
    "collapsed": false
   },
   "outputs": [
    {
     "ename": "TypeError",
     "evalue": "say_hello() missing 1 required positional argument: 'people'",
     "output_type": "error",
     "traceback": [
      "\u001b[0;31m---------------------------------------------------------------------------\u001b[0m",
      "\u001b[0;31mTypeError\u001b[0m                                 Traceback (most recent call last)",
      "\u001b[0;32m<ipython-input-61-627d50fc9487>\u001b[0m in \u001b[0;36m<module>\u001b[0;34m()\u001b[0m\n\u001b[1;32m      1\u001b[0m \u001b[0;31m# All arguments must be present, or the function will return an error\u001b[0m\u001b[0;34m\u001b[0m\u001b[0;34m\u001b[0m\u001b[0m\n\u001b[0;32m----> 2\u001b[0;31m \u001b[0msay_hello\u001b[0m\u001b[0;34m(\u001b[0m\u001b[0;34m'afternoon'\u001b[0m\u001b[0;34m)\u001b[0m\u001b[0;34m\u001b[0m\u001b[0m\n\u001b[0m",
      "\u001b[0;31mTypeError\u001b[0m: say_hello() missing 1 required positional argument: 'people'"
     ]
    }
   ],
   "source": [
    "# All arguments must be present, or the function will return an error\n",
    "say_hello('afternoon')"
   ]
  },
  {
   "cell_type": "code",
   "execution_count": 62,
   "metadata": {
    "collapsed": true
   },
   "outputs": [],
   "source": [
    "# Keyword arguments can be used to make some arguments optional by giving them a default value\n",
    "# All mandatory arguments must come first, in order\n",
    "def say_hello(time, people='friends'):\n",
    "    return 'Good ' + time + ', ' + people"
   ]
  },
  {
   "cell_type": "code",
   "execution_count": 63,
   "metadata": {
    "collapsed": false
   },
   "outputs": [
    {
     "data": {
      "text/plain": [
       "'Good afternoon, friends'"
      ]
     },
     "execution_count": 63,
     "metadata": {},
     "output_type": "execute_result"
    }
   ],
   "source": [
    "say_hello('afternoon')"
   ]
  },
  {
   "cell_type": "code",
   "execution_count": 64,
   "metadata": {
    "collapsed": false
   },
   "outputs": [
    {
     "data": {
      "text/plain": [
       "'Good afternoon, students'"
      ]
     },
     "execution_count": 64,
     "metadata": {},
     "output_type": "execute_result"
    }
   ],
   "source": [
    "say_hello('afternoon', 'students')"
   ]
  },
  {
   "cell_type": "markdown",
   "metadata": {},
   "source": [
    "### EXERCISE 5 - Creating a variance function\n",
    "\n",
    "Finally, let's turn our variance calculation into a function that we can use over and over again. \n",
    "Copy your code from Exercise 4 into the box below, and do the following:\n",
    "\n",
    "1. Turn your code into a function called `calculate_variance` that takes a list of values and returns their variance.\n",
    "1. Write a nice docstring describing what your function does.\n",
    "1. In a subsequent cell, call your function with different sets of numbers to make sure it works.\n",
    "\n",
    "__Bonus__\n",
    "\n",
    "1. Refactor your function by pulling out the section that calculates the mean into another function, and calling that inside your `calculate_variance` function.\n",
    "2. Make sure it can works properly when all the data are integers as well.\n",
    "3. Give a better error message when it's passed an empty list. Use the web to find out how to raise exceptions in Python."
   ]
  },
  {
   "cell_type": "markdown",
   "metadata": {},
   "source": [
    "### EXERCISE 6 - Putting the `calculate_mean` and `calculate_variance` function(s) in a module\n",
    "\n",
    "We can make our functions more easily reusable by placing them into modules that we can import, just\n",
    "like we have been doing with `numpy`. It's pretty simple to do this.\n",
    "\n",
    "1. Copy your function(s) into a new text file, in the same directory as this notebook,\n",
    "called `stats.py`.\n",
    "1. In the cell below, type `import stats` to import the module. Type `stats.` and hit tab to see the available\n",
    "functions in the module. Try calculating the variance of a number of samples of heights (or other random numbers) using your imported module."
   ]
  }
 ],
 "metadata": {
  "kernelspec": {
   "display_name": "Python 3",
   "language": "python",
   "name": "python3"
  },
  "language_info": {
   "codemirror_mode": {
    "name": "ipython",
    "version": 3
   },
   "file_extension": ".py",
   "mimetype": "text/x-python",
   "name": "python",
   "nbconvert_exporter": "python",
   "pygments_lexer": "ipython3",
   "version": "3.5.2"
  }
 },
 "nbformat": 4,
 "nbformat_minor": 0
}
